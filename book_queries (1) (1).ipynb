{
 "cells": [
  {
   "cell_type": "code",
   "execution_count": 1,
   "id": "a22af1b2",
   "metadata": {},
   "outputs": [],
   "source": [
    "import pandas as pd\n",
    "import pyodbc"
   ]
  },
  {
   "cell_type": "code",
   "execution_count": 2,
   "id": "ee54143a",
   "metadata": {},
   "outputs": [],
   "source": [
    "conn = pyodbc.connect(\n",
    "    \"Driver={ODBC Driver 17 for SQL Server};\"\n",
    "    \"Server=BASBOSA;\"\n",
    "    \"Database=book;\"\n",
    "    \"Trusted_Connection=yes;\"\n",
    "    \n",
    ")"
   ]
  },
  {
   "cell_type": "markdown",
   "id": "d403e6a4",
   "metadata": {},
   "source": [
    " 1. Top 10 least expensive books"
   ]
  },
  {
   "cell_type": "code",
   "execution_count": null,
   "id": "7e75248c",
   "metadata": {},
   "outputs": [
    {
     "name": "stdout",
     "output_type": "stream",
     "text": [
      "                                           BookTitle  Price\n",
      "0                         An Abundance of Katherines  10.00\n",
      "1                              The Origin of Species  10.01\n",
      "2  The Tipping Point: How Little Things Can Make ...  10.02\n",
      "3                                           Patience  10.16\n",
      "4                               Greek Mythic History  10.23\n",
      "5  The Fellowship of the Ring (The Lord of the Ri...  10.27\n",
      "6                                  History of Beauty  10.29\n",
      "7  The Lucifer Effect: Understanding How Good Peo...  10.40\n",
      "8  NaNo What Now? Finding your editing process, r...  10.41\n",
      "9                                       Pet Sematary  10.56\n"
     ]
    },
    {
     "name": "stderr",
     "output_type": "stream",
     "text": [
      "C:\\Users\\ELGOHARY\\AppData\\Local\\Temp\\ipykernel_5532\\974381472.py:6: UserWarning: pandas only supports SQLAlchemy connectable (engine/connection) or database string URI or sqlite3 DBAPI2 connection. Other DBAPI2 objects are not tested. Please consider using SQLAlchemy.\n",
      "  top10_cheapest = pd.read_sql(query1, conn)\n"
     ]
    }
   ],
   "source": [
    "query1 = \"\"\"\n",
    "SELECT TOP 10 BookTitle, Price\n",
    "FROM dbo.Books_Final\n",
    "ORDER BY Price ASC;\n",
    "\"\"\"\n",
    "top10_cheapest = pd.read_sql(query1, conn)\n",
    "print (top10_cheapest)"
   ]
  },
  {
   "cell_type": "markdown",
   "id": "64500233",
   "metadata": {},
   "source": [
    "2. Average price of the available books only"
   ]
  },
  {
   "cell_type": "code",
   "execution_count": 9,
   "id": "60b1ad77",
   "metadata": {},
   "outputs": [
    {
     "name": "stdout",
     "output_type": "stream",
     "text": [
      "              Category  AvgAvailablePrice\n",
      "0             Suspense          58.330000\n",
      "1               Novels          54.810000\n",
      "2             Politics          53.613333\n",
      "3               Health          51.452500\n",
      "4            New Adult          46.383333\n",
      "5            Christian          42.496667\n",
      "6     Sports and Games          41.166000\n",
      "7            Self Help          40.620000\n",
      "8               Travel          39.794545\n",
      "9              Fantasy          39.593958\n",
      "10                 Art          38.520000\n",
      "11           Parenting          37.350000\n",
      "12             History          37.295000\n",
      "13       Autobiography          37.053333\n",
      "14      Womens Fiction          36.791176\n",
      "15            Cultural          36.580000\n",
      "16            Classics          36.545263\n",
      "17        Contemporary          36.200000\n",
      "18             Fiction          36.066615\n",
      "19              Poetry          35.974211\n",
      "20              Horror          35.949412\n",
      "21       Short Stories          35.880000\n",
      "22       Add a comment          35.796418\n",
      "23               Music          35.636923\n",
      "24         Young Adult          35.449074\n",
      "25        Spirituality          35.098333\n",
      "26      Sequential Art          34.572267\n",
      "27             Default          34.392697\n",
      "28   Christian Fiction          34.385000\n",
      "29          Nonfiction          34.260182\n",
      "30          Psychology          34.218571\n",
      "31             Romance          33.933714\n",
      "32     Science Fiction          33.802500\n",
      "33           Biography          33.662000\n",
      "34  Historical Fiction          33.644231\n",
      "35          Philosophy          33.558182\n",
      "36               Humor          33.501000\n",
      "37             Science          33.088571\n",
      "38           Childrens          32.638276\n",
      "39            Religion          32.567143\n",
      "40            Business          32.460000\n",
      "41             Mystery          31.719062\n",
      "42            Thriller          31.433636\n",
      "43      Food and Drink          31.414667\n",
      "44          Historical          22.830000\n",
      "45             Erotica          19.190000\n",
      "46          Paranormal          15.400000\n",
      "47       Adult Fiction          15.360000\n",
      "48            Academic          13.120000\n"
     ]
    },
    {
     "name": "stderr",
     "output_type": "stream",
     "text": [
      "C:\\Users\\ELGOHARY\\AppData\\Local\\Temp\\ipykernel_5532\\1843353049.py:8: UserWarning: pandas only supports SQLAlchemy connectable (engine/connection) or database string URI or sqlite3 DBAPI2 connection. Other DBAPI2 objects are not tested. Please consider using SQLAlchemy.\n",
      "  Avg_Price = pd.read_sql(query2, conn)\n"
     ]
    }
   ],
   "source": [
    "query2 = \"\"\"\n",
    "SELECT Category, AVG(Price) AS AvgAvailablePrice\n",
    "FROM dbo.Books_Final\n",
    "WHERE Availability = 1\n",
    "GROUP BY Category\n",
    "ORDER BY AvgAvailablePrice DESC;\n",
    "    \"\"\"\n",
    "Avg_Price = pd.read_sql(query2, conn)\n",
    "print (Avg_Price)"
   ]
  },
  {
   "cell_type": "markdown",
   "id": "6cba84b5",
   "metadata": {},
   "source": [
    "3. Books More Expensive than the Overall Average Price "
   ]
  },
  {
   "cell_type": "code",
   "execution_count": 11,
   "id": "97cd4e2f",
   "metadata": {},
   "outputs": [
    {
     "name": "stdout",
     "output_type": "stream",
     "text": [
      "                                             BookTitle        Category  Price\n",
      "0                   The Perfect Play (Play by Play #1)         Romance  59.99\n",
      "1                    Last One Home (New Beginnings #1)         Fiction  59.98\n",
      "2                     Civilization and Its Discontents      Psychology  59.95\n",
      "3                       The Barefoot Contessa Cookbook  Food and Drink  59.92\n",
      "4                            The Diary of a Young Girl      Nonfiction  59.90\n",
      "..                                                 ...             ...    ...\n",
      "508                  Doing It Over (Most Likely To #1)         Romance  35.61\n",
      "509  So Cute It Hurts!!, Vol. 6 (So Cute It Hurts!!...  Sequential Art  35.43\n",
      "510                                    The Darkest Lie     Young Adult  35.35\n",
      "511                        Breaking Dawn (Twilight #4)         Default  35.28\n",
      "512                                        Most Wanted         Mystery  35.28\n",
      "\n",
      "[513 rows x 3 columns]\n"
     ]
    },
    {
     "name": "stderr",
     "output_type": "stream",
     "text": [
      "C:\\Users\\ELGOHARY\\AppData\\Local\\Temp\\ipykernel_5532\\1681066893.py:7: UserWarning: pandas only supports SQLAlchemy connectable (engine/connection) or database string URI or sqlite3 DBAPI2 connection. Other DBAPI2 objects are not tested. Please consider using SQLAlchemy.\n",
      "  Expensive_books = pd.read_sql(query3, conn)\n"
     ]
    }
   ],
   "source": [
    "query3 = \"\"\"\n",
    "SELECT BookTitle, Category, Price\n",
    "FROM dbo.Books_Final\n",
    "WHERE Price > (SELECT AVG(Price) FROM dbo.Books_Final)\n",
    "ORDER BY Price DESC;\n",
    "\"\"\"\n",
    "Expensive_books = pd.read_sql(query3, conn)\n",
    "print (Expensive_books)"
   ]
  },
  {
   "cell_type": "markdown",
   "id": "212d41b3",
   "metadata": {},
   "source": [
    "4.The percentage of available books with rating 4 or higher"
   ]
  },
  {
   "cell_type": "code",
   "execution_count": 12,
   "id": "867135aa",
   "metadata": {},
   "outputs": [
    {
     "name": "stdout",
     "output_type": "stream",
     "text": [
      "   HighRatedAvailablePercentage\n",
      "0                     37.537538\n"
     ]
    },
    {
     "name": "stderr",
     "output_type": "stream",
     "text": [
      "C:\\Users\\ELGOHARY\\AppData\\Local\\Temp\\ipykernel_5532\\1004470433.py:8: UserWarning: pandas only supports SQLAlchemy connectable (engine/connection) or database string URI or sqlite3 DBAPI2 connection. Other DBAPI2 objects are not tested. Please consider using SQLAlchemy.\n",
      "  Books_ratings = pd.read_sql(query4, conn)\n"
     ]
    }
   ],
   "source": [
    "query4 = \"\"\"\n",
    "SELECT \n",
    "    COUNT(*) * 100.0 / (SELECT COUNT(*) FROM dbo.Books_Final WHERE Availability = 1) \n",
    "    AS HighRatedAvailablePercentage\n",
    "FROM dbo.Books_Final\n",
    "WHERE Availability = 1 AND Rating >= 4;\n",
    "\"\"\"\n",
    "Books_ratings = pd.read_sql(query4, conn)\n",
    "print (Books_ratings)"
   ]
  }
 ],
 "metadata": {
  "kernelspec": {
   "display_name": "base",
   "language": "python",
   "name": "python3"
  },
  "language_info": {
   "codemirror_mode": {
    "name": "ipython",
    "version": 3
   },
   "file_extension": ".py",
   "mimetype": "text/x-python",
   "name": "python",
   "nbconvert_exporter": "python",
   "pygments_lexer": "ipython3",
   "version": "3.11.7"
  }
 },
 "nbformat": 4,
 "nbformat_minor": 5
}

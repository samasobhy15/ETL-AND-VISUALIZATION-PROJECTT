{
 "cells": [
  {
   "cell_type": "code",
   "execution_count": 3,
   "id": "7c07741e",
   "metadata": {},
   "outputs": [
    {
     "name": "stdout",
     "output_type": "stream",
     "text": [
      "Requirement already satisfied: pandas in c:\\users\\habiba elnamaky\\appdata\\local\\programs\\python\\python313\\lib\\site-packages (2.3.2)\n",
      "Requirement already satisfied: pyodbc in c:\\users\\habiba elnamaky\\appdata\\local\\programs\\python\\python313\\lib\\site-packages (5.2.0)\n",
      "Requirement already satisfied: numpy>=1.26.0 in c:\\users\\habiba elnamaky\\appdata\\local\\programs\\python\\python313\\lib\\site-packages (from pandas) (2.3.2)\n",
      "Requirement already satisfied: python-dateutil>=2.8.2 in c:\\users\\habiba elnamaky\\appdata\\roaming\\python\\python313\\site-packages (from pandas) (2.9.0.post0)\n",
      "Requirement already satisfied: pytz>=2020.1 in c:\\users\\habiba elnamaky\\appdata\\local\\programs\\python\\python313\\lib\\site-packages (from pandas) (2025.2)\n",
      "Requirement already satisfied: tzdata>=2022.7 in c:\\users\\habiba elnamaky\\appdata\\local\\programs\\python\\python313\\lib\\site-packages (from pandas) (2025.2)\n",
      "Requirement already satisfied: six>=1.5 in c:\\users\\habiba elnamaky\\appdata\\roaming\\python\\python313\\site-packages (from python-dateutil>=2.8.2->pandas) (1.17.0)\n",
      "Note: you may need to restart the kernel to use updated packages.\n"
     ]
    },
    {
     "name": "stderr",
     "output_type": "stream",
     "text": [
      "\n",
      "[notice] A new release of pip is available: 25.1.1 -> 25.2\n",
      "[notice] To update, run: python.exe -m pip install --upgrade pip\n"
     ]
    }
   ],
   "source": [
    "pip install pandas pyodbc\n"
   ]
  },
  {
   "cell_type": "code",
   "execution_count": 6,
   "id": "d1f13f81",
   "metadata": {},
   "outputs": [
    {
     "name": "stdout",
     "output_type": "stream",
     "text": [
      "✅ تم إدخال البيانات في Books_Final بنجاح!\n"
     ]
    }
   ],
   "source": [
    "import pandas as pd\n",
    "import pyodbc\n",
    "\n",
    "# 1. قراءة ملف CSV\n",
    "df = pd.read_csv(r\"C:\\Book_multisources_clean.csv\", encoding=\"utf-8\")\n",
    "\n",
    "# 2. ربط مع SQL Server Express\n",
    "conn = pyodbc.connect(\n",
    "    \"Driver={ODBC Driver 17 for SQL Server};\"\n",
    "    \"Server=HABIBAELNAMAKY\\\\SQLEXPRESS;\"   # ✅ هنا استخدمنا \\\\\n",
    "    \"Database=BOOK;\"                       # اسم قاعدة البيانات\n",
    "    \"Trusted_Connection=yes;\"\n",
    ")\n",
    "cursor = conn.cursor()\n",
    "\n",
    "# 3. إنشاء الجدول (لو موجود بيتحذف ويتعمل تاني)\n",
    "cursor.execute(\"\"\"\n",
    "IF OBJECT_ID('Books_Final', 'U') IS NOT NULL\n",
    "    DROP TABLE Books_Final;\n",
    "CREATE TABLE Books_Final (\n",
    "    BookID INT IDENTITY(1,1) PRIMARY KEY,\n",
    "    BookTitle NVARCHAR(500),\n",
    "    Price FLOAT NULL,\n",
    "    Availability INT NULL,\n",
    "    Rating INT NULL,\n",
    "    ImageURL NVARCHAR(1000),\n",
    "    BookLink NVARCHAR(1000),\n",
    "    Category NVARCHAR(255),\n",
    "    BookTitle_Cleaned NVARCHAR(500),\n",
    "    Price_Normalized FLOAT NULL,\n",
    "    Category_Encoded FLOAT NULL\n",
    ")\n",
    "\"\"\")\n",
    "conn.commit()\n",
    "\n",
    "# 4. إدخال البيانات صف بصف\n",
    "for index, row in df.iterrows():\n",
    "    cursor.execute(\"\"\"\n",
    "        INSERT INTO Books_Final (\n",
    "            BookTitle, Price, Availability, Rating, ImageURL, BookLink,\n",
    "            Category, BookTitle_Cleaned, Price_Normalized, Category_Encoded\n",
    "        )\n",
    "        VALUES (?, ?, ?, ?, ?, ?, ?, ?, ?, ?)\n",
    "    \"\"\", \n",
    "    row[\"Book Title\"], \n",
    "    float(row[\"Price\"]) if pd.notna(row[\"Price\"]) else None,\n",
    "    int(row[\"Availability\"]) if pd.notna(row[\"Availability\"]) else None,\n",
    "    int(row[\"Rating\"]) if pd.notna(row[\"Rating\"]) else None,\n",
    "    row[\"Image URL\"], \n",
    "    row[\"Book Link\"], \n",
    "    row[\"Category\"],\n",
    "    row[\"BookTitle_Cleaned\"],\n",
    "    float(row[\"Price_Normalized\"]) if pd.notna(row[\"Price_Normalized\"]) else None,\n",
    "    float(row[\"Category_Encoded\"]) if pd.notna(row[\"Category_Encoded\"]) else None\n",
    "    )\n",
    "\n",
    "conn.commit()\n",
    "cursor.close()\n",
    "conn.close()\n",
    "\n",
    "print(\"✅ تم إدخال البيانات في Books_Final بنجاح!\")\n"
   ]
  }
 ],
 "metadata": {
  "kernelspec": {
   "display_name": "Python 3",
   "language": "python",
   "name": "python3"
  },
  "language_info": {
   "codemirror_mode": {
    "name": "ipython",
    "version": 3
   },
   "file_extension": ".py",
   "mimetype": "text/x-python",
   "name": "python",
   "nbconvert_exporter": "python",
   "pygments_lexer": "ipython3",
   "version": "3.13.5"
  }
 },
 "nbformat": 4,
 "nbformat_minor": 5
}
